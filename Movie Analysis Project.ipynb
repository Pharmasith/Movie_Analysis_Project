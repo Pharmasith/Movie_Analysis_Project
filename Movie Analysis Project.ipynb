{
 "cells": [
  {
   "cell_type": "markdown",
   "id": "55c88278",
   "metadata": {},
   "source": [
    "# Movie Analysis Project "
   ]
  },
  {
   "cell_type": "markdown",
   "id": "a3bd4bfa",
   "metadata": {},
   "source": [
    "# Load Packages"
   ]
  },
  {
   "cell_type": "code",
   "execution_count": 1,
   "id": "90d67961",
   "metadata": {},
   "outputs": [],
   "source": [
    "import pandas as pd\n",
    "import numpy as np\n",
    "import sqlalchemy\n",
    "import os"
   ]
  },
  {
   "cell_type": "markdown",
   "id": "6eef391e",
   "metadata": {},
   "source": [
    "# Load the Data"
   ]
  },
  {
   "cell_type": "code",
   "execution_count": 2,
   "id": "030cbe28",
   "metadata": {},
   "outputs": [
    {
     "name": "stdout",
     "output_type": "stream",
     "text": [
      "<class 'pandas.core.frame.DataFrame'>\n",
      "RangeIndex: 9151875 entries, 0 to 9151874\n",
      "Data columns (total 9 columns):\n",
      " #   Column          Dtype \n",
      "---  ------          ----- \n",
      " 0   tconst          object\n",
      " 1   titleType       object\n",
      " 2   primaryTitle    object\n",
      " 3   originalTitle   object\n",
      " 4   isAdult         object\n",
      " 5   startYear       object\n",
      " 6   endYear         object\n",
      " 7   runtimeMinutes  object\n",
      " 8   genres          object\n",
      "dtypes: object(9)\n",
      "memory usage: 628.4+ MB\n"
     ]
    }
   ],
   "source": [
    "basics = pd.read_csv(\"https://datasets.imdbws.com/title.basics.tsv.gz\",\n",
    "                      sep=\"\\t\",low_memory = False)\n",
    "basics.replace({\"\\\\N\":np.nan}, inplace = True)\n",
    "basics.info()"
   ]
  },
  {
   "cell_type": "code",
   "execution_count": 3,
   "id": "a05e81ae",
   "metadata": {},
   "outputs": [
    {
     "name": "stdout",
     "output_type": "stream",
     "text": [
      "<class 'pandas.core.frame.DataFrame'>\n",
      "RangeIndex: 32863645 entries, 0 to 32863644\n",
      "Data columns (total 8 columns):\n",
      " #   Column           Dtype \n",
      "---  ------           ----- \n",
      " 0   titleId          object\n",
      " 1   ordering         int64 \n",
      " 2   title            object\n",
      " 3   region           object\n",
      " 4   language         object\n",
      " 5   types            object\n",
      " 6   attributes       object\n",
      " 7   isOriginalTitle  object\n",
      "dtypes: int64(1), object(7)\n",
      "memory usage: 2.0+ GB\n"
     ]
    }
   ],
   "source": [
    "akas = pd.read_csv(\"https://datasets.imdbws.com/title.akas.tsv.gz\",\n",
    "                      sep=\"\\t\",low_memory = False)\n",
    "akas.replace({\"\\\\N\":np.nan}, inplace = True)\n",
    "akas.info()"
   ]
  },
  {
   "cell_type": "code",
   "execution_count": 4,
   "id": "5d67f254",
   "metadata": {},
   "outputs": [
    {
     "name": "stdout",
     "output_type": "stream",
     "text": [
      "<class 'pandas.core.frame.DataFrame'>\n",
      "RangeIndex: 1263582 entries, 0 to 1263581\n",
      "Data columns (total 3 columns):\n",
      " #   Column         Non-Null Count    Dtype  \n",
      "---  ------         --------------    -----  \n",
      " 0   tconst         1263582 non-null  object \n",
      " 1   averageRating  1263582 non-null  float64\n",
      " 2   numVotes       1263582 non-null  int64  \n",
      "dtypes: float64(1), int64(1), object(1)\n",
      "memory usage: 28.9+ MB\n"
     ]
    }
   ],
   "source": [
    "ratings = pd.read_csv(\"https://datasets.imdbws.com/title.ratings.tsv.gz\",\n",
    "                      sep=\"\\t\",low_memory = False)\n",
    "ratings.info()"
   ]
  },
  {
   "cell_type": "markdown",
   "id": "bda14a52",
   "metadata": {},
   "source": [
    "# Clean the Data"
   ]
  },
  {
   "cell_type": "code",
   "execution_count": 5,
   "id": "113b5a37",
   "metadata": {},
   "outputs": [
    {
     "data": {
      "text/plain": [
       "0"
      ]
     },
     "execution_count": 5,
     "metadata": {},
     "output_type": "execute_result"
    }
   ],
   "source": [
    "# Remove the nulls runtime movies\n",
    "basics.drop(basics[basics[\"runtimeMinutes\"].isna()].index, inplace = True)\n",
    "basics[\"runtimeMinutes\"].isna().sum()"
   ]
  },
  {
   "cell_type": "code",
   "execution_count": 6,
   "id": "957baa1d",
   "metadata": {},
   "outputs": [
    {
     "name": "stdout",
     "output_type": "stream",
     "text": [
      "<class 'pandas.core.frame.DataFrame'>\n",
      "Int64Index: 2460395 entries, 0 to 9151874\n",
      "Data columns (total 9 columns):\n",
      " #   Column          Dtype \n",
      "---  ------          ----- \n",
      " 0   tconst          object\n",
      " 1   titleType       object\n",
      " 2   primaryTitle    object\n",
      " 3   originalTitle   object\n",
      " 4   isAdult         object\n",
      " 5   startYear       object\n",
      " 6   endYear         object\n",
      " 7   runtimeMinutes  object\n",
      " 8   genres          object\n",
      "dtypes: object(9)\n",
      "memory usage: 187.7+ MB\n"
     ]
    }
   ],
   "source": [
    "basics.info()"
   ]
  },
  {
   "cell_type": "code",
   "execution_count": 7,
   "id": "78a98ec3",
   "metadata": {},
   "outputs": [
    {
     "data": {
      "text/plain": [
       "array(['short', 'movie', 'tvEpisode', 'tvSeries', 'tvShort', 'tvMovie',\n",
       "       'tvMiniSeries', 'video', 'tvSpecial', 'videoGame'], dtype=object)"
      ]
     },
     "execution_count": 7,
     "metadata": {},
     "output_type": "execute_result"
    }
   ],
   "source": [
    "# Get only Movies\n",
    "basics[\"titleType\"].unique()"
   ]
  },
  {
   "cell_type": "code",
   "execution_count": 8,
   "id": "f952d6bb",
   "metadata": {},
   "outputs": [
    {
     "data": {
      "text/plain": [
       "array(['movie'], dtype=object)"
      ]
     },
     "execution_count": 8,
     "metadata": {},
     "output_type": "execute_result"
    }
   ],
   "source": [
    "basics.drop(basics[basics[\"titleType\"] != \"movie\"].index, inplace=True)\n",
    "basics[\"titleType\"].unique()"
   ]
  },
  {
   "cell_type": "code",
   "execution_count": 9,
   "id": "47d2429b",
   "metadata": {},
   "outputs": [
    {
     "name": "stdout",
     "output_type": "stream",
     "text": [
      "<class 'pandas.core.frame.DataFrame'>\n",
      "Int64Index: 390360 entries, 8 to 9151825\n",
      "Data columns (total 9 columns):\n",
      " #   Column          Non-Null Count   Dtype \n",
      "---  ------          --------------   ----- \n",
      " 0   tconst          390360 non-null  object\n",
      " 1   titleType       390360 non-null  object\n",
      " 2   primaryTitle    390360 non-null  object\n",
      " 3   originalTitle   390360 non-null  object\n",
      " 4   isAdult         390360 non-null  object\n",
      " 5   startYear       384420 non-null  object\n",
      " 6   endYear         0 non-null       object\n",
      " 7   runtimeMinutes  390360 non-null  object\n",
      " 8   genres          366361 non-null  object\n",
      "dtypes: object(9)\n",
      "memory usage: 29.8+ MB\n"
     ]
    }
   ],
   "source": [
    "basics.info()"
   ]
  },
  {
   "cell_type": "code",
   "execution_count": 10,
   "id": "a9b001c6",
   "metadata": {},
   "outputs": [
    {
     "data": {
      "text/plain": [
       "array(['Romance', nan, 'Action,Adventure,Biography', ...,\n",
       "       'Music,Musical,Reality-TV', 'Action,Crime,Short',\n",
       "       'Crime,Fantasy,Sci-Fi'], dtype=object)"
      ]
     },
     "execution_count": 10,
     "metadata": {},
     "output_type": "execute_result"
    }
   ],
   "source": [
    "basics[\"genres\"].unique()"
   ]
  },
  {
   "cell_type": "code",
   "execution_count": 11,
   "id": "ec3b6ef3",
   "metadata": {},
   "outputs": [
    {
     "data": {
      "text/plain": [
       "1382"
      ]
     },
     "execution_count": 11,
     "metadata": {},
     "output_type": "execute_result"
    }
   ],
   "source": [
    "len(basics[\"genres\"].unique())"
   ]
  },
  {
   "cell_type": "code",
   "execution_count": 12,
   "id": "f14cbee4",
   "metadata": {},
   "outputs": [
    {
     "name": "stdout",
     "output_type": "stream",
     "text": [
      "<class 'pandas.core.frame.DataFrame'>\n",
      "Int64Index: 366361 entries, 8 to 9151825\n",
      "Data columns (total 9 columns):\n",
      " #   Column          Non-Null Count   Dtype \n",
      "---  ------          --------------   ----- \n",
      " 0   tconst          366361 non-null  object\n",
      " 1   titleType       366361 non-null  object\n",
      " 2   primaryTitle    366361 non-null  object\n",
      " 3   originalTitle   366361 non-null  object\n",
      " 4   isAdult         366361 non-null  object\n",
      " 5   startYear       360553 non-null  object\n",
      " 6   endYear         0 non-null       object\n",
      " 7   runtimeMinutes  366361 non-null  object\n",
      " 8   genres          366361 non-null  object\n",
      "dtypes: object(9)\n",
      "memory usage: 28.0+ MB\n"
     ]
    }
   ],
   "source": [
    "basics.drop(basics[basics[\"genres\"].isna()].index, inplace = True)\n",
    "basics.info()"
   ]
  },
  {
   "cell_type": "code",
   "execution_count": 13,
   "id": "06d00030",
   "metadata": {},
   "outputs": [
    {
     "name": "stdout",
     "output_type": "stream",
     "text": [
      "<class 'pandas.core.frame.DataFrame'>\n",
      "Int64Index: 279045 entries, 8 to 9151724\n",
      "Data columns (total 9 columns):\n",
      " #   Column          Non-Null Count   Dtype \n",
      "---  ------          --------------   ----- \n",
      " 0   tconst          279045 non-null  object\n",
      " 1   titleType       279045 non-null  object\n",
      " 2   primaryTitle    279045 non-null  object\n",
      " 3   originalTitle   279045 non-null  object\n",
      " 4   isAdult         279045 non-null  object\n",
      " 5   startYear       274766 non-null  object\n",
      " 6   endYear         0 non-null       object\n",
      " 7   runtimeMinutes  279045 non-null  object\n",
      " 8   genres          279045 non-null  object\n",
      "dtypes: object(9)\n",
      "memory usage: 21.3+ MB\n"
     ]
    }
   ],
   "source": [
    "basics.drop(basics[basics[\"genres\"].str.contains(\"Documentary\")].index, inplace = True)\n",
    "basics.info()"
   ]
  },
  {
   "cell_type": "code",
   "execution_count": 14,
   "id": "a24efded",
   "metadata": {},
   "outputs": [
    {
     "data": {
      "text/plain": [
       "1154"
      ]
     },
     "execution_count": 14,
     "metadata": {},
     "output_type": "execute_result"
    }
   ],
   "source": [
    "len(basics[\"genres\"].unique())"
   ]
  },
  {
   "cell_type": "code",
   "execution_count": 15,
   "id": "02844787",
   "metadata": {},
   "outputs": [
    {
     "data": {
      "text/plain": [
       "array(['1894', '1906', '1907', '1908', '1910', '1909', '1911', '1913',\n",
       "       '1912', '1919', '1914', '1915', '1936', '1916', '1917', '1925',\n",
       "       '1918', '1920', '1921', '1924', '1923', '1922', '1927', '1929',\n",
       "       '1926', '1993', '1935', '1928', '1942', '1930', '1932', '1931',\n",
       "       '1937', '1933', '1950', '1938', '1951', '1939', '1934', '1946',\n",
       "       '1940', '1944', '1947', '1941', '1952', '1970', '1957', '1943',\n",
       "       '1948', '2001', '1945', '1953', '1954', '1983', '1949', '1973',\n",
       "       '1961', '1955', '1962', '1958', '1956', '1977', '1964', '1960',\n",
       "       '1959', '1967', '1965', '1968', '1963', '1971', '1969', '1966',\n",
       "       '1976', '1990', '1972', '1979', '1981', '2020', '1975', '1978',\n",
       "       '1989', '1974', '1986', '1987', '1980', '1985', '2018', '1984',\n",
       "       '1982', '1991', nan, '1988', '2005', '1994', '2004', '2016',\n",
       "       '1995', '1992', '1998', '2002', '1996', '2017', '1997', '2000',\n",
       "       '1999', '2006', '2008', '2009', '2007', '2003', '2022', '2012',\n",
       "       '2010', '2011', '2015', '2021', '2013', '2014', '2019', '2023',\n",
       "       '1903', '2024', '2025', '2027', '2026'], dtype=object)"
      ]
     },
     "execution_count": 15,
     "metadata": {},
     "output_type": "execute_result"
    }
   ],
   "source": [
    "# Get Only Movies Made in 2000-2021\n",
    "basics[\"startYear\"].unique()"
   ]
  },
  {
   "cell_type": "code",
   "execution_count": 16,
   "id": "7b0dab65",
   "metadata": {},
   "outputs": [
    {
     "data": {
      "text/html": [
       "<div>\n",
       "<style scoped>\n",
       "    .dataframe tbody tr th:only-of-type {\n",
       "        vertical-align: middle;\n",
       "    }\n",
       "\n",
       "    .dataframe tbody tr th {\n",
       "        vertical-align: top;\n",
       "    }\n",
       "\n",
       "    .dataframe thead th {\n",
       "        text-align: right;\n",
       "    }\n",
       "</style>\n",
       "<table border=\"1\" class=\"dataframe\">\n",
       "  <thead>\n",
       "    <tr style=\"text-align: right;\">\n",
       "      <th></th>\n",
       "      <th>startYear</th>\n",
       "    </tr>\n",
       "  </thead>\n",
       "  <tbody>\n",
       "    <tr>\n",
       "      <th>count</th>\n",
       "      <td>274766.000000</td>\n",
       "    </tr>\n",
       "    <tr>\n",
       "      <th>mean</th>\n",
       "      <td>1990.856187</td>\n",
       "    </tr>\n",
       "    <tr>\n",
       "      <th>std</th>\n",
       "      <td>28.212197</td>\n",
       "    </tr>\n",
       "    <tr>\n",
       "      <th>min</th>\n",
       "      <td>1894.000000</td>\n",
       "    </tr>\n",
       "    <tr>\n",
       "      <th>25%</th>\n",
       "      <td>1972.000000</td>\n",
       "    </tr>\n",
       "    <tr>\n",
       "      <th>50%</th>\n",
       "      <td>2001.000000</td>\n",
       "    </tr>\n",
       "    <tr>\n",
       "      <th>75%</th>\n",
       "      <td>2014.000000</td>\n",
       "    </tr>\n",
       "    <tr>\n",
       "      <th>max</th>\n",
       "      <td>2027.000000</td>\n",
       "    </tr>\n",
       "  </tbody>\n",
       "</table>\n",
       "</div>"
      ],
      "text/plain": [
       "           startYear\n",
       "count  274766.000000\n",
       "mean     1990.856187\n",
       "std        28.212197\n",
       "min      1894.000000\n",
       "25%      1972.000000\n",
       "50%      2001.000000\n",
       "75%      2014.000000\n",
       "max      2027.000000"
      ]
     },
     "execution_count": 16,
     "metadata": {},
     "output_type": "execute_result"
    }
   ],
   "source": [
    "basics.drop(basics[basics[\"startYear\"].isna()].index, inplace = True)\n",
    "basics[[\"startYear\"]].astype(int).describe()\n"
   ]
  },
  {
   "cell_type": "code",
   "execution_count": 17,
   "id": "ce19b479",
   "metadata": {},
   "outputs": [
    {
     "name": "stdout",
     "output_type": "stream",
     "text": [
      "<class 'pandas.core.frame.DataFrame'>\n",
      "Int64Index: 136634 entries, 34790 to 9151724\n",
      "Data columns (total 9 columns):\n",
      " #   Column          Non-Null Count   Dtype \n",
      "---  ------          --------------   ----- \n",
      " 0   tconst          136634 non-null  object\n",
      " 1   titleType       136634 non-null  object\n",
      " 2   primaryTitle    136634 non-null  object\n",
      " 3   originalTitle   136634 non-null  object\n",
      " 4   isAdult         136634 non-null  object\n",
      " 5   startYear       136634 non-null  object\n",
      " 6   endYear         0 non-null       object\n",
      " 7   runtimeMinutes  136634 non-null  object\n",
      " 8   genres          136634 non-null  object\n",
      "dtypes: object(9)\n",
      "memory usage: 10.4+ MB\n"
     ]
    }
   ],
   "source": [
    "basics.drop(basics[~basics[\"startYear\"].astype(int).isin(range(2000,2022))].index, inplace = True)\n",
    "basics.info()"
   ]
  },
  {
   "cell_type": "code",
   "execution_count": 18,
   "id": "83efd22c",
   "metadata": {},
   "outputs": [
    {
     "data": {
      "text/html": [
       "<div>\n",
       "<style scoped>\n",
       "    .dataframe tbody tr th:only-of-type {\n",
       "        vertical-align: middle;\n",
       "    }\n",
       "\n",
       "    .dataframe tbody tr th {\n",
       "        vertical-align: top;\n",
       "    }\n",
       "\n",
       "    .dataframe thead th {\n",
       "        text-align: right;\n",
       "    }\n",
       "</style>\n",
       "<table border=\"1\" class=\"dataframe\">\n",
       "  <thead>\n",
       "    <tr style=\"text-align: right;\">\n",
       "      <th></th>\n",
       "      <th>startYear</th>\n",
       "    </tr>\n",
       "  </thead>\n",
       "  <tbody>\n",
       "    <tr>\n",
       "      <th>count</th>\n",
       "      <td>136634.000000</td>\n",
       "    </tr>\n",
       "    <tr>\n",
       "      <th>mean</th>\n",
       "      <td>2012.744163</td>\n",
       "    </tr>\n",
       "    <tr>\n",
       "      <th>std</th>\n",
       "      <td>5.731971</td>\n",
       "    </tr>\n",
       "    <tr>\n",
       "      <th>min</th>\n",
       "      <td>2000.000000</td>\n",
       "    </tr>\n",
       "    <tr>\n",
       "      <th>25%</th>\n",
       "      <td>2009.000000</td>\n",
       "    </tr>\n",
       "    <tr>\n",
       "      <th>50%</th>\n",
       "      <td>2014.000000</td>\n",
       "    </tr>\n",
       "    <tr>\n",
       "      <th>75%</th>\n",
       "      <td>2018.000000</td>\n",
       "    </tr>\n",
       "    <tr>\n",
       "      <th>max</th>\n",
       "      <td>2021.000000</td>\n",
       "    </tr>\n",
       "  </tbody>\n",
       "</table>\n",
       "</div>"
      ],
      "text/plain": [
       "           startYear\n",
       "count  136634.000000\n",
       "mean     2012.744163\n",
       "std         5.731971\n",
       "min      2000.000000\n",
       "25%      2009.000000\n",
       "50%      2014.000000\n",
       "75%      2018.000000\n",
       "max      2021.000000"
      ]
     },
     "execution_count": 18,
     "metadata": {},
     "output_type": "execute_result"
    }
   ],
   "source": [
    "basics[[\"startYear\"]].astype(int).describe()"
   ]
  },
  {
   "cell_type": "code",
   "execution_count": 19,
   "id": "809af487",
   "metadata": {},
   "outputs": [
    {
     "data": {
      "text/plain": [
       "array(['UA', 'DE', 'HU', 'GR', 'RU', 'US', nan, 'JP', 'FR', 'RO', 'GB',\n",
       "       'CA', 'PT', 'ES', 'FI', 'PL', 'AR', 'RS', 'UY', 'IT', 'BR', 'DK',\n",
       "       'TR', 'XWW', 'XEU', 'SK', 'CZ', 'SE', 'NZ', 'MX', 'NO', 'XYU',\n",
       "       'AT', 'VE', 'CSHH', 'SI', 'IN', 'AU', 'TW', 'LT', 'NL', 'CO', 'IR',\n",
       "       'BG', 'SG', 'BE', 'SUHH', 'HR', 'DZ', 'CH', 'BF', 'PH', 'XWG',\n",
       "       'VN', 'CN', 'XSA', 'EE', 'IS', 'PR', 'DDDE', 'HK', 'XKO', 'CL',\n",
       "       'IE', 'JM', 'PE', 'EG', 'GE', 'BY', 'BA', 'AE', 'PA', 'TJ', 'XSI',\n",
       "       'TH', 'YUCS', 'ZA', 'MY', 'IL', 'LV', 'PK', 'KR', 'BD', 'ID', 'CU',\n",
       "       'AL', 'BO', 'XAS', 'CR', 'PY', 'DO', 'GT', 'EC', 'SV', 'UZ',\n",
       "       'BUMM', 'XPI', 'BJ', 'AZ', 'NG', 'CM', 'MA', 'GL', 'MN', 'LI',\n",
       "       'LU', 'MZ', 'BM', 'KZ', 'MD', 'LB', 'IQ', 'TM', 'MK', 'TN', 'HT',\n",
       "       'AM', 'LK', 'ME', 'CG', 'CI', 'SY', 'NP', 'QA', 'TO', 'SN', 'GH',\n",
       "       'JO', 'KG', 'NE', 'GN', 'VDVN', 'TD', 'SO', 'SD', 'MC', 'TT', 'GA',\n",
       "       'BS', 'LY', 'AO', 'KH', 'MR', 'AF', 'MG', 'ML', 'GY', 'CY', 'ET',\n",
       "       'GU', 'SR', 'MT', 'TG', 'PG', 'MU', 'BI', 'CF', 'NI', 'ZW', 'ZM',\n",
       "       'GW', 'DJ', 'KP', 'RW', 'TZ', 'GI', 'LA', 'SC', 'GP', 'XAU', 'FO',\n",
       "       'PS', 'ZRCD', 'MO', 'AW', 'KW', 'CV', 'SL', 'SM', 'CD', 'BT', 'LS',\n",
       "       'HN', 'KE', 'MQ', 'AD', 'ER', 'MM', 'SA', 'CSXX', 'IM', 'XKV',\n",
       "       'BH', 'BB', 'BZ', 'UG', 'AG', 'NU', 'OM', 'BW', 'LR', 'AN', 'MV',\n",
       "       'YE', 'GM', 'KY', 'NC', 'DM', 'TL', 'MP', 'VA', 'GQ', 'FJ', 'SZ',\n",
       "       'RE', 'EH', 'PF', 'VG', 'LC', 'MW', 'BN', 'ST', 'KM', 'FM', 'AI',\n",
       "       'GD', 'VI', 'SB', 'GF', 'AQ', 'MH', 'CW', 'WS', 'VC', 'AS', 'XNA',\n",
       "       'MS', 'VU', 'SH', 'KI', 'TV', 'CK', 'PW', 'NR', 'KN', 'JE', 'TC'],\n",
       "      dtype=object)"
      ]
     },
     "execution_count": 19,
     "metadata": {},
     "output_type": "execute_result"
    }
   ],
   "source": [
    "# Get Only Movies Released in the United States\n",
    "akas[\"region\"].unique()"
   ]
  },
  {
   "cell_type": "code",
   "execution_count": 20,
   "id": "f4e5e149",
   "metadata": {},
   "outputs": [
    {
     "data": {
      "text/plain": [
       "5           tt0000001\n",
       "14          tt0000002\n",
       "33          tt0000005\n",
       "36          tt0000005\n",
       "41          tt0000005\n",
       "              ...    \n",
       "32863317    tt9916702\n",
       "32863354    tt9916720\n",
       "32863356    tt9916720\n",
       "32863373    tt9916756\n",
       "32863389    tt9916764\n",
       "Name: titleId, Length: 1342706, dtype: object"
      ]
     },
     "execution_count": 20,
     "metadata": {},
     "output_type": "execute_result"
    }
   ],
   "source": [
    "us_title_ids = akas[akas[\"region\"] == \"US\"][\"titleId\"]\n",
    "us_title_ids"
   ]
  },
  {
   "cell_type": "code",
   "execution_count": 21,
   "id": "946ce0e5",
   "metadata": {},
   "outputs": [
    {
     "name": "stdout",
     "output_type": "stream",
     "text": [
      "<class 'pandas.core.frame.DataFrame'>\n",
      "Int64Index: 861585 entries, 194782 to 32863135\n",
      "Data columns (total 8 columns):\n",
      " #   Column           Non-Null Count   Dtype \n",
      "---  ------           --------------   ----- \n",
      " 0   titleId          861585 non-null  object\n",
      " 1   ordering         861585 non-null  int64 \n",
      " 2   title            861585 non-null  object\n",
      " 3   region           731410 non-null  object\n",
      " 4   language         183554 non-null  object\n",
      " 5   types            764767 non-null  object\n",
      " 6   attributes       30425 non-null   object\n",
      " 7   isOriginalTitle  861585 non-null  object\n",
      "dtypes: int64(1), object(7)\n",
      "memory usage: 59.2+ MB\n"
     ]
    }
   ],
   "source": [
    "# Filter Titles and Ratings to Remove Unnecessary Data\n",
    "akas.drop(akas[~akas[\"titleId\"].isin(basics[\"tconst\"])].index, inplace = True)\n",
    "akas.info()"
   ]
  },
  {
   "cell_type": "code",
   "execution_count": 22,
   "id": "a3440666",
   "metadata": {},
   "outputs": [
    {
     "name": "stdout",
     "output_type": "stream",
     "text": [
      "<class 'pandas.core.frame.DataFrame'>\n",
      "Int64Index: 103129 entries, 17954 to 1263568\n",
      "Data columns (total 3 columns):\n",
      " #   Column         Non-Null Count   Dtype  \n",
      "---  ------         --------------   -----  \n",
      " 0   tconst         103129 non-null  object \n",
      " 1   averageRating  103129 non-null  float64\n",
      " 2   numVotes       103129 non-null  int64  \n",
      "dtypes: float64(1), int64(1), object(1)\n",
      "memory usage: 3.1+ MB\n"
     ]
    }
   ],
   "source": [
    "ratings.drop(ratings[~ratings[\"tconst\"].isin(basics[\"tconst\"])].index, inplace = True)\n",
    "ratings.info()"
   ]
  },
  {
   "cell_type": "code",
   "execution_count": 23,
   "id": "b9ef6ad2",
   "metadata": {},
   "outputs": [
    {
     "data": {
      "text/plain": [
       "['title_akas.csv.gz', 'title_basics.csv.gz', 'title_ratings.csv.gz']"
      ]
     },
     "execution_count": 23,
     "metadata": {},
     "output_type": "execute_result"
    }
   ],
   "source": [
    "# Save Data to Compressed CSVs\n",
    "os.makedirs(\"data/\", exist_ok= True)\n",
    "basics.to_csv(\"data/title_basics.csv.gz\",compression='gzip',index=False)\n",
    "akas.to_csv(\"data/title_akas.csv.gz\",compression='gzip',index=False)\n",
    "ratings.to_csv(\"data/title_ratings.csv.gz\",compression='gzip',index=False)\n",
    "os.listdir(\"data/\")"
   ]
  }
 ],
 "metadata": {
  "kernelspec": {
   "display_name": "Python (dojo-env)",
   "language": "python",
   "name": "dojo-env"
  },
  "language_info": {
   "codemirror_mode": {
    "name": "ipython",
    "version": 3
   },
   "file_extension": ".py",
   "mimetype": "text/x-python",
   "name": "python",
   "nbconvert_exporter": "python",
   "pygments_lexer": "ipython3",
   "version": "3.8.13"
  },
  "toc": {
   "base_numbering": 1,
   "nav_menu": {},
   "number_sections": false,
   "sideBar": true,
   "skip_h1_title": false,
   "title_cell": "Table of Contents",
   "title_sidebar": "Contents",
   "toc_cell": false,
   "toc_position": {},
   "toc_section_display": true,
   "toc_window_display": false
  }
 },
 "nbformat": 4,
 "nbformat_minor": 5
}
