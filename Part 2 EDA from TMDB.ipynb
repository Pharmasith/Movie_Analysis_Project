{
 "cells": [
  {
   "cell_type": "code",
   "execution_count": 1,
   "id": "edad812f",
   "metadata": {},
   "outputs": [],
   "source": [
    "# Imports\n",
    "import numpy as np\n",
    "import pandas as pd\n",
    "import matplotlib.pyplot as plt\n",
    "import seaborn as sns"
   ]
  },
  {
   "cell_type": "code",
   "execution_count": 2,
   "id": "c1e76f32",
   "metadata": {},
   "outputs": [
    {
     "data": {
      "text/html": [
       "<div>\n",
       "<style scoped>\n",
       "    .dataframe tbody tr th:only-of-type {\n",
       "        vertical-align: middle;\n",
       "    }\n",
       "\n",
       "    .dataframe tbody tr th {\n",
       "        vertical-align: top;\n",
       "    }\n",
       "\n",
       "    .dataframe thead th {\n",
       "        text-align: right;\n",
       "    }\n",
       "</style>\n",
       "<table border=\"1\" class=\"dataframe\">\n",
       "  <thead>\n",
       "    <tr style=\"text-align: right;\">\n",
       "      <th></th>\n",
       "      <th>imdb_id</th>\n",
       "      <th>adult</th>\n",
       "      <th>backdrop_path</th>\n",
       "      <th>belongs_to_collection</th>\n",
       "      <th>budget</th>\n",
       "      <th>genres</th>\n",
       "      <th>homepage</th>\n",
       "      <th>id</th>\n",
       "      <th>original_language</th>\n",
       "      <th>original_title</th>\n",
       "      <th>...</th>\n",
       "      <th>revenue</th>\n",
       "      <th>runtime</th>\n",
       "      <th>spoken_languages</th>\n",
       "      <th>status</th>\n",
       "      <th>tagline</th>\n",
       "      <th>title</th>\n",
       "      <th>video</th>\n",
       "      <th>vote_average</th>\n",
       "      <th>vote_count</th>\n",
       "      <th>certification</th>\n",
       "    </tr>\n",
       "  </thead>\n",
       "  <tbody>\n",
       "    <tr>\n",
       "      <th>0</th>\n",
       "      <td>0</td>\n",
       "      <td>NaN</td>\n",
       "      <td>NaN</td>\n",
       "      <td>NaN</td>\n",
       "      <td>NaN</td>\n",
       "      <td>NaN</td>\n",
       "      <td>NaN</td>\n",
       "      <td>NaN</td>\n",
       "      <td>NaN</td>\n",
       "      <td>NaN</td>\n",
       "      <td>...</td>\n",
       "      <td>NaN</td>\n",
       "      <td>NaN</td>\n",
       "      <td>NaN</td>\n",
       "      <td>NaN</td>\n",
       "      <td>NaN</td>\n",
       "      <td>NaN</td>\n",
       "      <td>NaN</td>\n",
       "      <td>NaN</td>\n",
       "      <td>NaN</td>\n",
       "      <td>NaN</td>\n",
       "    </tr>\n",
       "    <tr>\n",
       "      <th>1</th>\n",
       "      <td>tt0113026</td>\n",
       "      <td>0.0</td>\n",
       "      <td>/vMFs7nw6P0bIV1jDsQpxAieAVnH.jpg</td>\n",
       "      <td>NaN</td>\n",
       "      <td>10000000.0</td>\n",
       "      <td>[{'id': 35, 'name': 'Comedy'}, {'id': 10402, '...</td>\n",
       "      <td>NaN</td>\n",
       "      <td>62127.0</td>\n",
       "      <td>en</td>\n",
       "      <td>The Fantasticks</td>\n",
       "      <td>...</td>\n",
       "      <td>0.0</td>\n",
       "      <td>86.0</td>\n",
       "      <td>[{'english_name': 'English', 'iso_639_1': 'en'...</td>\n",
       "      <td>Released</td>\n",
       "      <td>Try to remember the first time magic happened</td>\n",
       "      <td>The Fantasticks</td>\n",
       "      <td>0.0</td>\n",
       "      <td>5.5</td>\n",
       "      <td>22.0</td>\n",
       "      <td>NaN</td>\n",
       "    </tr>\n",
       "  </tbody>\n",
       "</table>\n",
       "<p>2 rows × 26 columns</p>\n",
       "</div>"
      ],
      "text/plain": [
       "     imdb_id  adult                     backdrop_path belongs_to_collection  \\\n",
       "0          0    NaN                               NaN                   NaN   \n",
       "1  tt0113026    0.0  /vMFs7nw6P0bIV1jDsQpxAieAVnH.jpg                   NaN   \n",
       "\n",
       "       budget                                             genres homepage  \\\n",
       "0         NaN                                                NaN      NaN   \n",
       "1  10000000.0  [{'id': 35, 'name': 'Comedy'}, {'id': 10402, '...      NaN   \n",
       "\n",
       "        id original_language   original_title  ... revenue  runtime  \\\n",
       "0      NaN               NaN              NaN  ...     NaN      NaN   \n",
       "1  62127.0                en  The Fantasticks  ...     0.0     86.0   \n",
       "\n",
       "                                    spoken_languages    status  \\\n",
       "0                                                NaN       NaN   \n",
       "1  [{'english_name': 'English', 'iso_639_1': 'en'...  Released   \n",
       "\n",
       "                                         tagline            title  video  \\\n",
       "0                                            NaN              NaN    NaN   \n",
       "1  Try to remember the first time magic happened  The Fantasticks    0.0   \n",
       "\n",
       "   vote_average vote_count certification  \n",
       "0           NaN        NaN           NaN  \n",
       "1           5.5       22.0           NaN  \n",
       "\n",
       "[2 rows x 26 columns]"
      ]
     },
     "execution_count": 2,
     "metadata": {},
     "output_type": "execute_result"
    }
   ],
   "source": [
    "# Load in your csv.gz's of results for each year extracted\n",
    "yr00 = pd.read_csv(\"Data/final_tmdb_data_2000.csv.gz\", low_memory = False)\n",
    "yr00.head(2)"
   ]
  },
  {
   "cell_type": "code",
   "execution_count": 3,
   "id": "b09e1081",
   "metadata": {},
   "outputs": [
    {
     "data": {
      "text/html": [
       "<div>\n",
       "<style scoped>\n",
       "    .dataframe tbody tr th:only-of-type {\n",
       "        vertical-align: middle;\n",
       "    }\n",
       "\n",
       "    .dataframe tbody tr th {\n",
       "        vertical-align: top;\n",
       "    }\n",
       "\n",
       "    .dataframe thead th {\n",
       "        text-align: right;\n",
       "    }\n",
       "</style>\n",
       "<table border=\"1\" class=\"dataframe\">\n",
       "  <thead>\n",
       "    <tr style=\"text-align: right;\">\n",
       "      <th></th>\n",
       "      <th>imdb_id</th>\n",
       "      <th>adult</th>\n",
       "      <th>backdrop_path</th>\n",
       "      <th>belongs_to_collection</th>\n",
       "      <th>budget</th>\n",
       "      <th>genres</th>\n",
       "      <th>homepage</th>\n",
       "      <th>id</th>\n",
       "      <th>original_language</th>\n",
       "      <th>original_title</th>\n",
       "      <th>...</th>\n",
       "      <th>revenue</th>\n",
       "      <th>runtime</th>\n",
       "      <th>spoken_languages</th>\n",
       "      <th>status</th>\n",
       "      <th>tagline</th>\n",
       "      <th>title</th>\n",
       "      <th>video</th>\n",
       "      <th>vote_average</th>\n",
       "      <th>vote_count</th>\n",
       "      <th>certification</th>\n",
       "    </tr>\n",
       "  </thead>\n",
       "  <tbody>\n",
       "    <tr>\n",
       "      <th>0</th>\n",
       "      <td>0</td>\n",
       "      <td>NaN</td>\n",
       "      <td>NaN</td>\n",
       "      <td>NaN</td>\n",
       "      <td>NaN</td>\n",
       "      <td>NaN</td>\n",
       "      <td>NaN</td>\n",
       "      <td>NaN</td>\n",
       "      <td>NaN</td>\n",
       "      <td>NaN</td>\n",
       "      <td>...</td>\n",
       "      <td>NaN</td>\n",
       "      <td>NaN</td>\n",
       "      <td>NaN</td>\n",
       "      <td>NaN</td>\n",
       "      <td>NaN</td>\n",
       "      <td>NaN</td>\n",
       "      <td>NaN</td>\n",
       "      <td>NaN</td>\n",
       "      <td>NaN</td>\n",
       "      <td>NaN</td>\n",
       "    </tr>\n",
       "    <tr>\n",
       "      <th>1</th>\n",
       "      <td>tt0035423</td>\n",
       "      <td>0.0</td>\n",
       "      <td>/ab5yL8zgRotrICzGbEl10z24N71.jpg</td>\n",
       "      <td>NaN</td>\n",
       "      <td>48000000.0</td>\n",
       "      <td>[{'id': 35, 'name': 'Comedy'}, {'id': 14, 'nam...</td>\n",
       "      <td>NaN</td>\n",
       "      <td>11232.0</td>\n",
       "      <td>en</td>\n",
       "      <td>Kate &amp; Leopold</td>\n",
       "      <td>...</td>\n",
       "      <td>76019048.0</td>\n",
       "      <td>118.0</td>\n",
       "      <td>[{'english_name': 'English', 'iso_639_1': 'en'...</td>\n",
       "      <td>Released</td>\n",
       "      <td>If they lived in the same century they'd be pe...</td>\n",
       "      <td>Kate &amp; Leopold</td>\n",
       "      <td>0.0</td>\n",
       "      <td>6.3</td>\n",
       "      <td>1137.0</td>\n",
       "      <td>PG-13</td>\n",
       "    </tr>\n",
       "  </tbody>\n",
       "</table>\n",
       "<p>2 rows × 26 columns</p>\n",
       "</div>"
      ],
      "text/plain": [
       "     imdb_id  adult                     backdrop_path belongs_to_collection  \\\n",
       "0          0    NaN                               NaN                   NaN   \n",
       "1  tt0035423    0.0  /ab5yL8zgRotrICzGbEl10z24N71.jpg                   NaN   \n",
       "\n",
       "       budget                                             genres homepage  \\\n",
       "0         NaN                                                NaN      NaN   \n",
       "1  48000000.0  [{'id': 35, 'name': 'Comedy'}, {'id': 14, 'nam...      NaN   \n",
       "\n",
       "        id original_language  original_title  ...     revenue  runtime  \\\n",
       "0      NaN               NaN             NaN  ...         NaN      NaN   \n",
       "1  11232.0                en  Kate & Leopold  ...  76019048.0    118.0   \n",
       "\n",
       "                                    spoken_languages    status  \\\n",
       "0                                                NaN       NaN   \n",
       "1  [{'english_name': 'English', 'iso_639_1': 'en'...  Released   \n",
       "\n",
       "                                             tagline           title  video  \\\n",
       "0                                                NaN             NaN    NaN   \n",
       "1  If they lived in the same century they'd be pe...  Kate & Leopold    0.0   \n",
       "\n",
       "   vote_average vote_count certification  \n",
       "0           NaN        NaN           NaN  \n",
       "1           6.3     1137.0         PG-13  \n",
       "\n",
       "[2 rows x 26 columns]"
      ]
     },
     "execution_count": 3,
     "metadata": {},
     "output_type": "execute_result"
    }
   ],
   "source": [
    "# Load in your csv.gz's of results for each year extracted\n",
    "yr01 = pd.read_csv(\"Data/final_tmdb_data_2001.csv.gz\", low_memory = False)\n",
    "yr01.head(2)"
   ]
  },
  {
   "cell_type": "code",
   "execution_count": 4,
   "id": "83c8694d",
   "metadata": {},
   "outputs": [],
   "source": [
    "# concatenate the dataframes pages\n",
    "df_years = pd.concat([yr01, yr00],\n",
    "                      ignore_index=True)"
   ]
  },
  {
   "cell_type": "code",
   "execution_count": 5,
   "id": "fefbc6f9",
   "metadata": {},
   "outputs": [],
   "source": [
    "## Save current dataframe to file.\n",
    "df_years.to_csv(\"Data/tmdb_results_combined.csv.gz\",compression='gzip',index=False)"
   ]
  },
  {
   "cell_type": "code",
   "execution_count": 6,
   "id": "eb910799",
   "metadata": {},
   "outputs": [
    {
     "name": "stdout",
     "output_type": "stream",
     "text": [
      "<class 'pandas.core.frame.DataFrame'>\n",
      "RangeIndex: 4443 entries, 0 to 4442\n",
      "Data columns (total 26 columns):\n",
      " #   Column                 Non-Null Count  Dtype  \n",
      "---  ------                 --------------  -----  \n",
      " 0   imdb_id                4443 non-null   object \n",
      " 1   adult                  4441 non-null   float64\n",
      " 2   backdrop_path          1911 non-null   object \n",
      " 3   belongs_to_collection  248 non-null    object \n",
      " 4   budget                 4441 non-null   float64\n",
      " 5   genres                 4441 non-null   object \n",
      " 6   homepage               230 non-null    object \n",
      " 7   id                     4441 non-null   float64\n",
      " 8   original_language      4441 non-null   object \n",
      " 9   original_title         4441 non-null   object \n",
      " 10  overview               4073 non-null   object \n",
      " 11  popularity             4441 non-null   float64\n",
      " 12  poster_path            3729 non-null   object \n",
      " 13  production_companies   4441 non-null   object \n",
      " 14  production_countries   4441 non-null   object \n",
      " 15  release_date           4399 non-null   object \n",
      " 16  revenue                4441 non-null   float64\n",
      " 17  runtime                4441 non-null   float64\n",
      " 18  spoken_languages       4441 non-null   object \n",
      " 19  status                 4441 non-null   object \n",
      " 20  tagline                1228 non-null   object \n",
      " 21  title                  4441 non-null   object \n",
      " 22  video                  4441 non-null   float64\n",
      " 23  vote_average           4441 non-null   float64\n",
      " 24  vote_count             4441 non-null   float64\n",
      " 25  certification          817 non-null    object \n",
      "dtypes: float64(9), object(17)\n",
      "memory usage: 902.6+ KB\n"
     ]
    }
   ],
   "source": [
    "df_years.info()"
   ]
  },
  {
   "cell_type": "code",
   "execution_count": 7,
   "id": "4b9a44ea",
   "metadata": {},
   "outputs": [
    {
     "name": "stdout",
     "output_type": "stream",
     "text": [
      "<class 'pandas.core.frame.DataFrame'>\n",
      "Int64Index: 369 entries, 1 to 4398\n",
      "Data columns (total 26 columns):\n",
      " #   Column                 Non-Null Count  Dtype  \n",
      "---  ------                 --------------  -----  \n",
      " 0   imdb_id                369 non-null    object \n",
      " 1   adult                  369 non-null    float64\n",
      " 2   backdrop_path          350 non-null    object \n",
      " 3   belongs_to_collection  85 non-null     object \n",
      " 4   budget                 369 non-null    float64\n",
      " 5   genres                 369 non-null    object \n",
      " 6   homepage               56 non-null     object \n",
      " 7   id                     369 non-null    float64\n",
      " 8   original_language      369 non-null    object \n",
      " 9   original_title         369 non-null    object \n",
      " 10  overview               368 non-null    object \n",
      " 11  popularity             369 non-null    float64\n",
      " 12  poster_path            368 non-null    object \n",
      " 13  production_companies   369 non-null    object \n",
      " 14  production_countries   369 non-null    object \n",
      " 15  release_date           369 non-null    object \n",
      " 16  revenue                369 non-null    float64\n",
      " 17  runtime                369 non-null    float64\n",
      " 18  spoken_languages       369 non-null    object \n",
      " 19  status                 369 non-null    object \n",
      " 20  tagline                321 non-null    object \n",
      " 21  title                  369 non-null    object \n",
      " 22  video                  369 non-null    float64\n",
      " 23  vote_average           369 non-null    float64\n",
      " 24  vote_count             369 non-null    float64\n",
      " 25  certification          307 non-null    object \n",
      "dtypes: float64(9), object(17)\n",
      "memory usage: 77.8+ KB\n"
     ]
    }
   ],
   "source": [
    "# Create a budget and revenue filters that have values greater than 0\n",
    "budget_filter = df_years['budget'] > 0\n",
    "revenue_filter= df_years['revenue'] > 0\n",
    "# Create a new dataframe for EDA\n",
    "df = df_years.loc[budget_filter & revenue_filter, :]\n",
    "df.info()"
   ]
  },
  {
   "cell_type": "code",
   "execution_count": 8,
   "id": "80665215",
   "metadata": {},
   "outputs": [
    {
     "data": {
      "image/png": "[encoded data removed]",
      "text/plain": [
       "<Figure size 432x288 with 1 Axes>"
      ]
     },
     "metadata": {
      "needs_background": "light"
     },
     "output_type": "display_data"
    }
   ],
   "source": [
    "# Create a histogram for the count for budget for movies >0\n",
    "df.loc[budget_filter, 'budget'].hist(bins = 30,\n",
    "                                   edgecolor='black')\n",
    "plt.xticks(rotation = 45)\n",
    "plt.ticklabel_format(useOffset=False, style='plain')\n",
    "plt.xlabel(\"Budget\")\n",
    "plt.ylabel('Count');\n",
    "plt.title('Budget Count');"
   ]
  },
  {
   "cell_type": "code",
   "execution_count": 9,
   "id": "cc080233",
   "metadata": {},
   "outputs": [
    {
     "data": {
      "image/png": "[encoded data removed]",
      "text/plain": [
       "<Figure size 432x288 with 1 Axes>"
      ]
     },
     "metadata": {
      "needs_background": "light"
     },
     "output_type": "display_data"
    }
   ],
   "source": [
    "# Create a histogram for the count for revenue for movies >0\n",
    "df.loc[revenue_filter, 'revenue'].hist(bins = 30,\n",
    "                                   edgecolor='black')\n",
    "plt.xticks(rotation = 45)\n",
    "plt.ticklabel_format(useOffset=False, style='plain')\n",
    "plt.xlabel(\"Revenue\")\n",
    "plt.ylabel('Count')\n",
    "plt.title('Revenue Count');"
   ]
  },
  {
   "cell_type": "code",
   "execution_count": 10,
   "id": "e48de83e",
   "metadata": {},
   "outputs": [
    {
     "data": {
      "text/plain": [
       "R        142\n",
       "PG-13    117\n",
       "PG        29\n",
       "G         13\n",
       "NR         6\n",
       "Name: certification, dtype: int64"
      ]
     },
     "execution_count": 10,
     "metadata": {},
     "output_type": "execute_result"
    }
   ],
   "source": [
    "df['certification'].value_counts()"
   ]
  },
  {
   "cell_type": "code",
   "execution_count": 11,
   "id": "f1f77fa3",
   "metadata": {},
   "outputs": [
    {
     "data": {
      "image/png": "[encoded data removed]",
      "text/plain": [
       "<Figure size 432x288 with 1 Axes>"
      ]
     },
     "metadata": {
      "needs_background": "light"
     },
     "output_type": "display_data"
    }
   ],
   "source": [
    "# Graph a histogram using seaborn\n",
    "sns.histplot(data=df, x='certification', palette='Set2');\n",
    "sns.despine()"
   ]
  },
  {
   "cell_type": "code",
   "execution_count": 12,
   "id": "34b0b51e",
   "metadata": {},
   "outputs": [
    {
     "data": {
      "image/png": "[encoded data removed]",
      "text/plain": [
       "<Figure size 432x288 with 1 Axes>"
      ]
     },
     "metadata": {
      "needs_background": "light"
     },
     "output_type": "display_data"
    }
   ],
   "source": [
    "sns.barplot(data=df, x='certification',y='revenue', ci=None)\n",
    "plt.title('Average Revenue per Certification')\n",
    "sns.set_style('darkgrid')\n",
    "sns.set_palette('Set2')\n",
    "sns.despine()"
   ]
  },
  {
   "cell_type": "code",
   "execution_count": 13,
   "id": "530137a6",
   "metadata": {},
   "outputs": [
    {
     "data": {
      "image/png": "[encoded data removed]",
      "text/plain": [
       "<Figure size 432x288 with 1 Axes>"
      ]
     },
     "metadata": {},
     "output_type": "display_data"
    }
   ],
   "source": [
    "sns.barplot(data=df, x='certification',y='budget', ci=None)\n",
    "plt.title('Average Budget per Certification ')\n",
    "sns.set_style('darkgrid')\n",
    "sns.set_palette('Set2')\n",
    "sns.despine()"
   ]
  },
  {
   "cell_type": "code",
   "execution_count": null,
   "id": "059a6e70",
   "metadata": {},
   "outputs": [],
   "source": []
  }
 ],
 "metadata": {
  "language_info": {
   "codemirror_mode": {
    "name": "ipython",
    "version": 3
   },
   "file_extension": ".py",
   "mimetype": "text/x-python",
   "name": "python",
   "nbconvert_exporter": "python",
   "pygments_lexer": "ipython3",
   "version": "3.8.13"
  }
 },
 "nbformat": 4,
 "nbformat_minor": 5
}
